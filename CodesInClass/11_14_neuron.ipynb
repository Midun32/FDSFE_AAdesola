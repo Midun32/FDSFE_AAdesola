{
  "nbformat": 4,
  "nbformat_minor": 0,
  "metadata": {
    "colab": {
      "provenance": [],
      "authorship_tag": "ABX9TyNd/yF25xw+8bAFhUVkdorI",
      "include_colab_link": true
    },
    "kernelspec": {
      "name": "python3",
      "display_name": "Python 3"
    },
    "language_info": {
      "name": "python"
    }
  },
  "cells": [
    {
      "cell_type": "markdown",
      "metadata": {
        "id": "view-in-github",
        "colab_type": "text"
      },
      "source": [
        "<a href=\"https://colab.research.google.com/github/Midun32/FDSFE_AAdesola/blob/main/CodesInClass/11_14_neuron.ipynb\" target=\"_parent\"><img src=\"https://colab.research.google.com/assets/colab-badge.svg\" alt=\"Open In Colab\"/></a>"
      ]
    },
    {
      "cell_type": "code",
      "execution_count": 1,
      "metadata": {
        "id": "AIqRRfvb71b-"
      },
      "outputs": [],
      "source": [
        "import numpy as np\n",
        "import pylab as plt"
      ]
    },
    {
      "cell_type": "code",
      "source": [
        "x1 = np.array([0.1, 0.2, 0])\n",
        "x2 = np.array([0.6, 0.2, 0.3])\n",
        "x3 = np.array([0.2, 0.4, 0.1])"
      ],
      "metadata": {
        "id": "ogRcHlJA8Crg"
      },
      "execution_count": 2,
      "outputs": []
    },
    {
      "cell_type": "code",
      "source": [
        "y = np.array([1, 0, 0])"
      ],
      "metadata": {
        "id": "TgW-7uSA8YEy"
      },
      "execution_count": 3,
      "outputs": []
    },
    {
      "cell_type": "code",
      "source": [
        "theta ="
      ],
      "metadata": {
        "id": "-Kz2mUAW8dP5"
      },
      "execution_count": null,
      "outputs": []
    },
    {
      "cell_type": "code",
      "source": [
        "def loss(pred, true):\n",
        "  return np.sum(np.abs(pred - true))"
      ],
      "metadata": {
        "id": "Z7sn8KTn8gc1"
      },
      "execution_count": 4,
      "outputs": []
    },
    {
      "cell_type": "code",
      "source": [
        "loss(3,5)"
      ],
      "metadata": {
        "colab": {
          "base_uri": "https://localhost:8080/"
        },
        "id": "fi55jRmt8zQp",
        "outputId": "e0dc4bd9-189f-4640-99af-0542f03343cd"
      },
      "execution_count": 5,
      "outputs": [
        {
          "output_type": "execute_result",
          "data": {
            "text/plain": [
              "2"
            ]
          },
          "metadata": {},
          "execution_count": 5
        }
      ]
    },
    {
      "cell_type": "code",
      "source": [
        "loss(x1,x2)"
      ],
      "metadata": {
        "colab": {
          "base_uri": "https://localhost:8080/"
        },
        "id": "gX--kV4882Q2",
        "outputId": "4070c105-eec1-4daa-dd98-48d331dff005"
      },
      "execution_count": 6,
      "outputs": [
        {
          "output_type": "execute_result",
          "data": {
            "text/plain": [
              "0.8"
            ]
          },
          "metadata": {},
          "execution_count": 6
        }
      ]
    },
    {
      "cell_type": "code",
      "source": [
        "def mpneuron(theta, x1, x2, x3):\n",
        "  if np.sum([x1, x2, x3]) >= theta:\n",
        "    return 1\n",
        "  return 0"
      ],
      "metadata": {
        "id": "tDhQ4p4v85XR"
      },
      "execution_count": 7,
      "outputs": []
    },
    {
      "cell_type": "code",
      "source": [
        "mpneuron(1, 1, 2, 3)"
      ],
      "metadata": {
        "colab": {
          "base_uri": "https://localhost:8080/"
        },
        "id": "q8nRDli49LFt",
        "outputId": "a4a0e065-3503-4bd2-b0e7-3cabce35936e"
      },
      "execution_count": 8,
      "outputs": [
        {
          "output_type": "execute_result",
          "data": {
            "text/plain": [
              "1"
            ]
          },
          "metadata": {},
          "execution_count": 8
        }
      ]
    },
    {
      "cell_type": "code",
      "source": [
        "mpneuron(1, 0, 0, 0)"
      ],
      "metadata": {
        "colab": {
          "base_uri": "https://localhost:8080/"
        },
        "id": "P4eK_X9g9To6",
        "outputId": "7409aa7c-3b75-4544-d32b-1bdbe39799c9"
      },
      "execution_count": 9,
      "outputs": [
        {
          "output_type": "execute_result",
          "data": {
            "text/plain": [
              "0"
            ]
          },
          "metadata": {},
          "execution_count": 9
        }
      ]
    },
    {
      "cell_type": "code",
      "source": [
        "losses_full = []\n",
        "\n",
        "for theta in np.arange(0, 3, 0.1):\n",
        "  losses_theta = []\n",
        "  for num in range(0, 3):\n",
        "    result = mpneuron(theta,x1[num],x2[num],x3[num])\n",
        "    loss(result,y[num])\n",
        "    losses_theta.append(loss(result,y[num]))\n",
        "  loss_sum = np.sum(losses_theta)\n",
        "  losses_full.append(loss_sum)"
      ],
      "metadata": {
        "id": "f0YMv6qr9Zhx"
      },
      "execution_count": 12,
      "outputs": []
    },
    {
      "cell_type": "code",
      "source": [
        "losses_full"
      ],
      "metadata": {
        "colab": {
          "base_uri": "https://localhost:8080/"
        },
        "id": "53N1oCL3-KcG",
        "outputId": "165afc8d-361e-4bf1-8938-59223624e07b"
      },
      "execution_count": 13,
      "outputs": [
        {
          "output_type": "execute_result",
          "data": {
            "text/plain": [
              "[2,\n",
              " 2,\n",
              " 2,\n",
              " 2,\n",
              " 2,\n",
              " 1,\n",
              " 1,\n",
              " 1,\n",
              " 1,\n",
              " 1,\n",
              " 1,\n",
              " 1,\n",
              " 1,\n",
              " 1,\n",
              " 1,\n",
              " 1,\n",
              " 1,\n",
              " 1,\n",
              " 1,\n",
              " 1,\n",
              " 1,\n",
              " 1,\n",
              " 1,\n",
              " 1,\n",
              " 1,\n",
              " 1,\n",
              " 1,\n",
              " 1,\n",
              " 1,\n",
              " 1]"
            ]
          },
          "metadata": {},
          "execution_count": 13
        }
      ]
    },
    {
      "cell_type": "code",
      "source": [
        "plt.plot(np.arange(0, 3, 0.1), losses_full);"
      ],
      "metadata": {
        "colab": {
          "base_uri": "https://localhost:8080/",
          "height": 430
        },
        "id": "aLwHGzMK-cSC",
        "outputId": "1aca5977-9636-4442-b9d0-377982d048ce"
      },
      "execution_count": 14,
      "outputs": [
        {
          "output_type": "display_data",
          "data": {
            "text/plain": [
              "<Figure size 640x480 with 1 Axes>"
            ],
            "image/png": "[encoded data removed]"
          },
          "metadata": {}
        }
      ]
    },
    {
      "cell_type": "code",
      "source": [
        "def mlperceptron(x1, x2, x3, theta):\n",
        "  return x1 + x2 + x3 >= theta\n",
        "\n",
        "def loss(prediction, y):\n",
        "  return np.abs(prediction - y)\n",
        "\n",
        "losses = []\n",
        "for theta in np.arange(0, 3, 0.01):\n",
        "  losses.append(np.array([loss(mlperceptron(x1[i], x2[i], x3[i], theta[i]))\n",
        "                                            for i in range(3)]).sum())\n",
        "  print(f\"loss {losses[-1]} \"\n",
        "    f\"theta: {theta} \")\n",
        "\n",
        "plt.plot(np.arange(0, 3, 0.01), losses)"
      ],
      "metadata": {
        "id": "qdQkbV6P-tuN"
      },
      "execution_count": null,
      "outputs": []
    }
  ]
}