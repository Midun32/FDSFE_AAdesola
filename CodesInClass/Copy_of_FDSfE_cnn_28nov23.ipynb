{
  "nbformat": 4,
  "nbformat_minor": 0,
  "metadata": {
    "colab": {
      "provenance": [],
      "gpuType": "T4",
      "include_colab_link": true
    },
    "kernelspec": {
      "name": "python3",
      "display_name": "Python 3"
    },
    "language_info": {
      "name": "python"
    },
    "accelerator": "GPU"
  },
  "cells": [
    {
      "cell_type": "markdown",
      "metadata": {
        "id": "view-in-github",
        "colab_type": "text"
      },
      "source": [
        "<a href=\"https://colab.research.google.com/github/Midun32/FDSFE_AAdesola/blob/main/CodesInClass/Copy_of_FDSfE_cnn_28nov23.ipynb\" target=\"_parent\"><img src=\"https://colab.research.google.com/assets/colab-badge.svg\" alt=\"Open In Colab\"/></a>"
      ]
    },
    {
      "cell_type": "code",
      "execution_count": 1,
      "metadata": {
        "id": "izT85T-5Q71q"
      },
      "outputs": [],
      "source": [
        "import numpy as np\n",
        "from matplotlib import pyplot as plt\n",
        "from tensorflow import keras\n",
        "from keras import layers\n",
        "from keras import datasets\n",
        "from sklearn.metrics import confusion_matrix"
      ]
    },
    {
      "cell_type": "markdown",
      "source": [
        "# Load MNIST Data"
      ],
      "metadata": {
        "id": "moTptTK6Rb7L"
      }
    },
    {
      "cell_type": "code",
      "source": [
        "# Load the data and split it between train and test sets\n",
        "(x_train, y_train), (x_test, y_test) = datasets.mnist.load_data()"
      ],
      "metadata": {
        "id": "bVViJKONRMRl",
        "colab": {
          "base_uri": "https://localhost:8080/"
        },
        "outputId": "7d07ceb4-987b-4ec8-fb94-4256932bf1a5"
      },
      "execution_count": 2,
      "outputs": [
        {
          "output_type": "stream",
          "name": "stdout",
          "text": [
            "Downloading data from https://storage.googleapis.com/tensorflow/tf-keras-datasets/mnist.npz\n",
            "11490434/11490434 [==============================] - 0s 0us/step\n"
          ]
        }
      ]
    },
    {
      "cell_type": "markdown",
      "source": [
        "# Explore MNIST Data"
      ],
      "metadata": {
        "id": "2ooIZFu5ReOo"
      }
    },
    {
      "cell_type": "code",
      "source": [
        "x_train.shape, y_train.shape"
      ],
      "metadata": {
        "colab": {
          "base_uri": "https://localhost:8080/"
        },
        "id": "NtB8D4SpznkM",
        "outputId": "1468ab38-4cd3-43a2-d9ec-8a44a0a6247c"
      },
      "execution_count": 3,
      "outputs": [
        {
          "output_type": "execute_result",
          "data": {
            "text/plain": [
              "((60000, 28, 28), (60000,))"
            ]
          },
          "metadata": {},
          "execution_count": 3
        }
      ]
    },
    {
      "cell_type": "code",
      "source": [
        "x_test.shape, y_test.shape"
      ],
      "metadata": {
        "colab": {
          "base_uri": "https://localhost:8080/"
        },
        "id": "ns8g380uzypl",
        "outputId": "de58aa4e-734c-488f-aa4c-d6184a68034e"
      },
      "execution_count": 4,
      "outputs": [
        {
          "output_type": "execute_result",
          "data": {
            "text/plain": [
              "((10000, 28, 28), (10000,))"
            ]
          },
          "metadata": {},
          "execution_count": 4
        }
      ]
    },
    {
      "cell_type": "code",
      "source": [
        "x_train.min(), x_train.max()"
      ],
      "metadata": {
        "colab": {
          "base_uri": "https://localhost:8080/"
        },
        "id": "Vkc7a3QH002I",
        "outputId": "89440939-1e27-44ff-b3a0-f597f4274b17"
      },
      "execution_count": 5,
      "outputs": [
        {
          "output_type": "execute_result",
          "data": {
            "text/plain": [
              "(0, 255)"
            ]
          },
          "metadata": {},
          "execution_count": 5
        }
      ]
    },
    {
      "cell_type": "code",
      "source": [
        "def plot_images(images, labels, nrows=3, ncols=3):\n",
        "    fig, axes = plt.subplots(nrows=nrows, ncols=ncols, figsize=(8, 8))\n",
        "\n",
        "    for i in range(nrows * ncols):\n",
        "        ax = axes.flatten()[i]\n",
        "        image = images[i]\n",
        "        label = labels[i]\n",
        "\n",
        "        ax.set_title(label)\n",
        "        ax.imshow(image, vmin=0, vmax=255, cmap=\"Greys\")\n",
        "        ax.set_aspect(\"equal\")\n",
        "        ax.axis(\"off\")\n",
        "\n",
        "    fig.show()\n",
        "\n",
        "plot_images(x_train, y_train, nrows=5, ncols=5)"
      ],
      "metadata": {
        "colab": {
          "base_uri": "https://localhost:8080/",
          "height": 675
        },
        "id": "2mw4epO8RkNw",
        "outputId": "25a3c86d-e9de-42cb-d574-40fa98e9fc2d"
      },
      "execution_count": 6,
      "outputs": [
        {
          "output_type": "display_data",
          "data": {
            "text/plain": [
              "<Figure size 800x800 with 25 Axes>"
            ],
            "image/png": "[encoded data removed]"
          },
          "metadata": {}
        }
      ]
    },
    {
      "cell_type": "markdown",
      "source": [
        "# Normalize Images"
      ],
      "metadata": {
        "id": "JX5mrZ9YVkVx"
      }
    },
    {
      "cell_type": "code",
      "source": [
        "x_train.min(), x_train.max(), x_test.min(), x_test.max()"
      ],
      "metadata": {
        "colab": {
          "base_uri": "https://localhost:8080/"
        },
        "id": "LLDcYz5aYTF_",
        "outputId": "978b574a-af29-4767-ddef-5b6243055707"
      },
      "execution_count": 7,
      "outputs": [
        {
          "output_type": "execute_result",
          "data": {
            "text/plain": [
              "(0, 255, 0, 255)"
            ]
          },
          "metadata": {},
          "execution_count": 7
        }
      ]
    },
    {
      "cell_type": "code",
      "source": [
        "def normalize_255(array):\n",
        "    normed_array = array.astype(float) / 255\n",
        "    return normed_array\n",
        "\n",
        "xn_train = normalize_255(x_train)\n",
        "xn_test = normalize_255(x_test)\n",
        "\n",
        "xn_train.min(), xn_train.max(), xn_test.min(), xn_test.max()"
      ],
      "metadata": {
        "colab": {
          "base_uri": "https://localhost:8080/"
        },
        "id": "7V5koHhpRqbR",
        "outputId": "236c28e1-a3fc-46af-d89d-e1a65576d80f"
      },
      "execution_count": 8,
      "outputs": [
        {
          "output_type": "execute_result",
          "data": {
            "text/plain": [
              "(0.0, 1.0, 0.0, 1.0)"
            ]
          },
          "metadata": {},
          "execution_count": 8
        }
      ]
    },
    {
      "cell_type": "markdown",
      "source": [
        "# Reshape arrays to from (N, 28, 28) to (N, 28, 28, 1)\n",
        "\n",
        "If these were color images, the arrays would already have shape (N, 28, 28, 3). The extra dimension represents 3 \"color channels\". In our case, the images are black and white but Keras still needs that extra dimension."
      ],
      "metadata": {
        "id": "kmJpsnnTWtpM"
      }
    },
    {
      "cell_type": "code",
      "source": [
        "xn_train.shape, xn_test.shape"
      ],
      "metadata": {
        "colab": {
          "base_uri": "https://localhost:8080/"
        },
        "id": "nZsYVmHGYZwg",
        "outputId": "5018a95c-a084-4dc7-b9e3-431edeff52b9"
      },
      "execution_count": 9,
      "outputs": [
        {
          "output_type": "execute_result",
          "data": {
            "text/plain": [
              "((60000, 28, 28), (10000, 28, 28))"
            ]
          },
          "metadata": {},
          "execution_count": 9
        }
      ]
    },
    {
      "cell_type": "code",
      "source": [
        "def reshape_for_keras(array):\n",
        "    reshaped_array = array[..., None]\n",
        "    return reshaped_array\n",
        "\n",
        "xnr_train = reshape_for_keras(xn_train)\n",
        "xnr_test = reshape_for_keras(xn_test)\n",
        "\n",
        "xnr_train.shape, xnr_test.shape"
      ],
      "metadata": {
        "colab": {
          "base_uri": "https://localhost:8080/"
        },
        "id": "KnY35CdjVolQ",
        "outputId": "61ffe21e-69d5-4bdb-a06e-b11b9f442c66"
      },
      "execution_count": 10,
      "outputs": [
        {
          "output_type": "execute_result",
          "data": {
            "text/plain": [
              "((60000, 28, 28, 1), (10000, 28, 28, 1))"
            ]
          },
          "metadata": {},
          "execution_count": 10
        }
      ]
    },
    {
      "cell_type": "code",
      "source": [
        "xn_train[0]"
      ],
      "metadata": {
        "colab": {
          "base_uri": "https://localhost:8080/"
        },
        "id": "gMrK0MF1poWU",
        "outputId": "a1cceb58-d4f0-43c5-9044-999760dce86d"
      },
      "execution_count": 11,
      "outputs": [
        {
          "output_type": "execute_result",
          "data": {
            "text/plain": [
              "array([[0.        , 0.        , 0.        , 0.        , 0.        ,\n",
              "        0.        , 0.        , 0.        , 0.        , 0.        ,\n",
              "        0.        , 0.        , 0.        , 0.        , 0.        ,\n",
              "        0.        , 0.        , 0.        , 0.        , 0.        ,\n",
              "        0.        , 0.        , 0.        , 0.        , 0.        ,\n",
              "        0.        , 0.        , 0.        ],\n",
              "       [0.        , 0.        , 0.        , 0.        , 0.        ,\n",
              "        0.        , 0.        , 0.        , 0.        , 0.        ,\n",
              "        0.        , 0.        , 0.        , 0.        , 0.        ,\n",
              "        0.        , 0.        , 0.        , 0.        , 0.        ,\n",
              "        0.        , 0.        , 0.        , 0.        , 0.        ,\n",
              "        0.        , 0.        , 0.        ],\n",
              "       [0.        , 0.        , 0.        , 0.        , 0.        ,\n",
              "        0.        , 0.        , 0.        , 0.        , 0.        ,\n",
              "        0.        , 0.        , 0.        , 0.        , 0.        ,\n",
              "        0.        , 0.        , 0.        , 0.        , 0.        ,\n",
              "        0.        , 0.        , 0.        , 0.        , 0.        ,\n",
              "        0.        , 0.        , 0.        ],\n",
              "       [0.        , 0.        , 0.        , 0.        , 0.        ,\n",
              "        0.        , 0.        , 0.        , 0.        , 0.        ,\n",
              "        0.        , 0.        , 0.        , 0.        , 0.        ,\n",
              "        0.        , 0.        , 0.        , 0.        , 0.        ,\n",
              "        0.        , 0.        , 0.        , 0.        , 0.        ,\n",
              "        0.        , 0.        , 0.        ],\n",
              "       [0.        , 0.        , 0.        , 0.        , 0.        ,\n",
              "        0.        , 0.        , 0.        , 0.        , 0.        ,\n",
              "        0.        , 0.        , 0.        , 0.        , 0.        ,\n",
              "        0.        , 0.        , 0.        , 0.        , 0.        ,\n",
              "        0.        , 0.        , 0.        , 0.        , 0.        ,\n",
              "        0.        , 0.        , 0.        ],\n",
              "       [0.        , 0.        , 0.        , 0.        , 0.        ,\n",
              "        0.        , 0.        , 0.        , 0.        , 0.        ,\n",
              "        0.        , 0.        , 0.01176471, 0.07058824, 0.07058824,\n",
              "        0.07058824, 0.49411765, 0.53333333, 0.68627451, 0.10196078,\n",
              "        0.65098039, 1.        , 0.96862745, 0.49803922, 0.        ,\n",
              "        0.        , 0.        , 0.        ],\n",
              "       [0.        , 0.        , 0.        , 0.        , 0.        ,\n",
              "        0.        , 0.        , 0.        , 0.11764706, 0.14117647,\n",
              "        0.36862745, 0.60392157, 0.66666667, 0.99215686, 0.99215686,\n",
              "        0.99215686, 0.99215686, 0.99215686, 0.88235294, 0.6745098 ,\n",
              "        0.99215686, 0.94901961, 0.76470588, 0.25098039, 0.        ,\n",
              "        0.        , 0.        , 0.        ],\n",
              "       [0.        , 0.        , 0.        , 0.        , 0.        ,\n",
              "        0.        , 0.        , 0.19215686, 0.93333333, 0.99215686,\n",
              "        0.99215686, 0.99215686, 0.99215686, 0.99215686, 0.99215686,\n",
              "        0.99215686, 0.99215686, 0.98431373, 0.36470588, 0.32156863,\n",
              "        0.32156863, 0.21960784, 0.15294118, 0.        , 0.        ,\n",
              "        0.        , 0.        , 0.        ],\n",
              "       [0.        , 0.        , 0.        , 0.        , 0.        ,\n",
              "        0.        , 0.        , 0.07058824, 0.85882353, 0.99215686,\n",
              "        0.99215686, 0.99215686, 0.99215686, 0.99215686, 0.77647059,\n",
              "        0.71372549, 0.96862745, 0.94509804, 0.        , 0.        ,\n",
              "        0.        , 0.        , 0.        , 0.        , 0.        ,\n",
              "        0.        , 0.        , 0.        ],\n",
              "       [0.        , 0.        , 0.        , 0.        , 0.        ,\n",
              "        0.        , 0.        , 0.        , 0.31372549, 0.61176471,\n",
              "        0.41960784, 0.99215686, 0.99215686, 0.80392157, 0.04313725,\n",
              "        0.        , 0.16862745, 0.60392157, 0.        , 0.        ,\n",
              "        0.        , 0.        , 0.        , 0.        , 0.        ,\n",
              "        0.        , 0.        , 0.        ],\n",
              "       [0.        , 0.        , 0.        , 0.        , 0.        ,\n",
              "        0.        , 0.        , 0.        , 0.        , 0.05490196,\n",
              "        0.00392157, 0.60392157, 0.99215686, 0.35294118, 0.        ,\n",
              "        0.        , 0.        , 0.        , 0.        , 0.        ,\n",
              "        0.        , 0.        , 0.        , 0.        , 0.        ,\n",
              "        0.        , 0.        , 0.        ],\n",
              "       [0.        , 0.        , 0.        , 0.        , 0.        ,\n",
              "        0.        , 0.        , 0.        , 0.        , 0.        ,\n",
              "        0.        , 0.54509804, 0.99215686, 0.74509804, 0.00784314,\n",
              "        0.        , 0.        , 0.        , 0.        , 0.        ,\n",
              "        0.        , 0.        , 0.        , 0.        , 0.        ,\n",
              "        0.        , 0.        , 0.        ],\n",
              "       [0.        , 0.        , 0.        , 0.        , 0.        ,\n",
              "        0.        , 0.        , 0.        , 0.        , 0.        ,\n",
              "        0.        , 0.04313725, 0.74509804, 0.99215686, 0.2745098 ,\n",
              "        0.        , 0.        , 0.        , 0.        , 0.        ,\n",
              "        0.        , 0.        , 0.        , 0.        , 0.        ,\n",
              "        0.        , 0.        , 0.        ],\n",
              "       [0.        , 0.        , 0.        , 0.        , 0.        ,\n",
              "        0.        , 0.        , 0.        , 0.        , 0.        ,\n",
              "        0.        , 0.        , 0.1372549 , 0.94509804, 0.88235294,\n",
              "        0.62745098, 0.42352941, 0.00392157, 0.        , 0.        ,\n",
              "        0.        , 0.        , 0.        , 0.        , 0.        ,\n",
              "        0.        , 0.        , 0.        ],\n",
              "       [0.        , 0.        , 0.        , 0.        , 0.        ,\n",
              "        0.        , 0.        , 0.        , 0.        , 0.        ,\n",
              "        0.        , 0.        , 0.        , 0.31764706, 0.94117647,\n",
              "        0.99215686, 0.99215686, 0.46666667, 0.09803922, 0.        ,\n",
              "        0.        , 0.        , 0.        , 0.        , 0.        ,\n",
              "        0.        , 0.        , 0.        ],\n",
              "       [0.        , 0.        , 0.        , 0.        , 0.        ,\n",
              "        0.        , 0.        , 0.        , 0.        , 0.        ,\n",
              "        0.        , 0.        , 0.        , 0.        , 0.17647059,\n",
              "        0.72941176, 0.99215686, 0.99215686, 0.58823529, 0.10588235,\n",
              "        0.        , 0.        , 0.        , 0.        , 0.        ,\n",
              "        0.        , 0.        , 0.        ],\n",
              "       [0.        , 0.        , 0.        , 0.        , 0.        ,\n",
              "        0.        , 0.        , 0.        , 0.        , 0.        ,\n",
              "        0.        , 0.        , 0.        , 0.        , 0.        ,\n",
              "        0.0627451 , 0.36470588, 0.98823529, 0.99215686, 0.73333333,\n",
              "        0.        , 0.        , 0.        , 0.        , 0.        ,\n",
              "        0.        , 0.        , 0.        ],\n",
              "       [0.        , 0.        , 0.        , 0.        , 0.        ,\n",
              "        0.        , 0.        , 0.        , 0.        , 0.        ,\n",
              "        0.        , 0.        , 0.        , 0.        , 0.        ,\n",
              "        0.        , 0.        , 0.97647059, 0.99215686, 0.97647059,\n",
              "        0.25098039, 0.        , 0.        , 0.        , 0.        ,\n",
              "        0.        , 0.        , 0.        ],\n",
              "       [0.        , 0.        , 0.        , 0.        , 0.        ,\n",
              "        0.        , 0.        , 0.        , 0.        , 0.        ,\n",
              "        0.        , 0.        , 0.        , 0.        , 0.18039216,\n",
              "        0.50980392, 0.71764706, 0.99215686, 0.99215686, 0.81176471,\n",
              "        0.00784314, 0.        , 0.        , 0.        , 0.        ,\n",
              "        0.        , 0.        , 0.        ],\n",
              "       [0.        , 0.        , 0.        , 0.        , 0.        ,\n",
              "        0.        , 0.        , 0.        , 0.        , 0.        ,\n",
              "        0.        , 0.        , 0.15294118, 0.58039216, 0.89803922,\n",
              "        0.99215686, 0.99215686, 0.99215686, 0.98039216, 0.71372549,\n",
              "        0.        , 0.        , 0.        , 0.        , 0.        ,\n",
              "        0.        , 0.        , 0.        ],\n",
              "       [0.        , 0.        , 0.        , 0.        , 0.        ,\n",
              "        0.        , 0.        , 0.        , 0.        , 0.        ,\n",
              "        0.09411765, 0.44705882, 0.86666667, 0.99215686, 0.99215686,\n",
              "        0.99215686, 0.99215686, 0.78823529, 0.30588235, 0.        ,\n",
              "        0.        , 0.        , 0.        , 0.        , 0.        ,\n",
              "        0.        , 0.        , 0.        ],\n",
              "       [0.        , 0.        , 0.        , 0.        , 0.        ,\n",
              "        0.        , 0.        , 0.        , 0.09019608, 0.25882353,\n",
              "        0.83529412, 0.99215686, 0.99215686, 0.99215686, 0.99215686,\n",
              "        0.77647059, 0.31764706, 0.00784314, 0.        , 0.        ,\n",
              "        0.        , 0.        , 0.        , 0.        , 0.        ,\n",
              "        0.        , 0.        , 0.        ],\n",
              "       [0.        , 0.        , 0.        , 0.        , 0.        ,\n",
              "        0.        , 0.07058824, 0.67058824, 0.85882353, 0.99215686,\n",
              "        0.99215686, 0.99215686, 0.99215686, 0.76470588, 0.31372549,\n",
              "        0.03529412, 0.        , 0.        , 0.        , 0.        ,\n",
              "        0.        , 0.        , 0.        , 0.        , 0.        ,\n",
              "        0.        , 0.        , 0.        ],\n",
              "       [0.        , 0.        , 0.        , 0.        , 0.21568627,\n",
              "        0.6745098 , 0.88627451, 0.99215686, 0.99215686, 0.99215686,\n",
              "        0.99215686, 0.95686275, 0.52156863, 0.04313725, 0.        ,\n",
              "        0.        , 0.        , 0.        , 0.        , 0.        ,\n",
              "        0.        , 0.        , 0.        , 0.        , 0.        ,\n",
              "        0.        , 0.        , 0.        ],\n",
              "       [0.        , 0.        , 0.        , 0.        , 0.53333333,\n",
              "        0.99215686, 0.99215686, 0.99215686, 0.83137255, 0.52941176,\n",
              "        0.51764706, 0.0627451 , 0.        , 0.        , 0.        ,\n",
              "        0.        , 0.        , 0.        , 0.        , 0.        ,\n",
              "        0.        , 0.        , 0.        , 0.        , 0.        ,\n",
              "        0.        , 0.        , 0.        ],\n",
              "       [0.        , 0.        , 0.        , 0.        , 0.        ,\n",
              "        0.        , 0.        , 0.        , 0.        , 0.        ,\n",
              "        0.        , 0.        , 0.        , 0.        , 0.        ,\n",
              "        0.        , 0.        , 0.        , 0.        , 0.        ,\n",
              "        0.        , 0.        , 0.        , 0.        , 0.        ,\n",
              "        0.        , 0.        , 0.        ],\n",
              "       [0.        , 0.        , 0.        , 0.        , 0.        ,\n",
              "        0.        , 0.        , 0.        , 0.        , 0.        ,\n",
              "        0.        , 0.        , 0.        , 0.        , 0.        ,\n",
              "        0.        , 0.        , 0.        , 0.        , 0.        ,\n",
              "        0.        , 0.        , 0.        , 0.        , 0.        ,\n",
              "        0.        , 0.        , 0.        ],\n",
              "       [0.        , 0.        , 0.        , 0.        , 0.        ,\n",
              "        0.        , 0.        , 0.        , 0.        , 0.        ,\n",
              "        0.        , 0.        , 0.        , 0.        , 0.        ,\n",
              "        0.        , 0.        , 0.        , 0.        , 0.        ,\n",
              "        0.        , 0.        , 0.        , 0.        , 0.        ,\n",
              "        0.        , 0.        , 0.        ]])"
            ]
          },
          "metadata": {},
          "execution_count": 11
        }
      ]
    },
    {
      "cell_type": "code",
      "source": [
        "xn_train[0].shape"
      ],
      "metadata": {
        "colab": {
          "base_uri": "https://localhost:8080/"
        },
        "id": "3B_k7pv3pwN7",
        "outputId": "c5a0068d-6721-4c6b-825d-0845309201d4"
      },
      "execution_count": 12,
      "outputs": [
        {
          "output_type": "execute_result",
          "data": {
            "text/plain": [
              "(28, 28)"
            ]
          },
          "metadata": {},
          "execution_count": 12
        }
      ]
    },
    {
      "cell_type": "code",
      "source": [
        "plt.imshow(xn_train[0, :, :])"
      ],
      "metadata": {
        "colab": {
          "base_uri": "https://localhost:8080/",
          "height": 448
        },
        "id": "r9NbJJuRp5C7",
        "outputId": "eb25ad0a-d69b-40f0-a654-850bdc22bd60"
      },
      "execution_count": 13,
      "outputs": [
        {
          "output_type": "execute_result",
          "data": {
            "text/plain": [
              "<matplotlib.image.AxesImage at 0x7dd47ec231c0>"
            ]
          },
          "metadata": {},
          "execution_count": 13
        },
        {
          "output_type": "display_data",
          "data": {
            "text/plain": [
              "<Figure size 640x480 with 1 Axes>"
            ],
            "image/png": "[encoded data removed]"
          },
          "metadata": {}
        }
      ]
    },
    {
      "cell_type": "code",
      "source": [
        "plt.imshow(xnr_train[0, :, :, 0])"
      ],
      "metadata": {
        "colab": {
          "base_uri": "https://localhost:8080/",
          "height": 448
        },
        "id": "PFHdpt1cqJUN",
        "outputId": "30cce7f0-768a-440e-f612-f9884f2d203f"
      },
      "execution_count": 14,
      "outputs": [
        {
          "output_type": "execute_result",
          "data": {
            "text/plain": [
              "<matplotlib.image.AxesImage at 0x7dd484a80be0>"
            ]
          },
          "metadata": {},
          "execution_count": 14
        },
        {
          "output_type": "display_data",
          "data": {
            "text/plain": [
              "<Figure size 640x480 with 1 Axes>"
            ],
            "image/png": "[encoded data removed]"
          },
          "metadata": {}
        }
      ]
    },
    {
      "cell_type": "markdown",
      "source": [
        "# One-hot encode the label arrays"
      ],
      "metadata": {
        "id": "qnS-x9OaXuCw"
      }
    },
    {
      "cell_type": "code",
      "source": [
        "y_train.shape, y_test.shape"
      ],
      "metadata": {
        "colab": {
          "base_uri": "https://localhost:8080/"
        },
        "id": "ltq4xFI6YcU7",
        "outputId": "c42afec3-af9f-449b-d7e3-32edf3d02f39"
      },
      "execution_count": 15,
      "outputs": [
        {
          "output_type": "execute_result",
          "data": {
            "text/plain": [
              "((60000,), (10000,))"
            ]
          },
          "metadata": {},
          "execution_count": 15
        }
      ]
    },
    {
      "cell_type": "code",
      "source": [
        "y_train"
      ],
      "metadata": {
        "colab": {
          "base_uri": "https://localhost:8080/"
        },
        "id": "Vy7exv1GYiUP",
        "outputId": "6918ac68-d2c9-44d5-a0c6-54b42ec55968"
      },
      "execution_count": 16,
      "outputs": [
        {
          "output_type": "execute_result",
          "data": {
            "text/plain": [
              "array([5, 0, 4, ..., 5, 6, 8], dtype=uint8)"
            ]
          },
          "metadata": {},
          "execution_count": 16
        }
      ]
    },
    {
      "cell_type": "code",
      "source": [
        "np.unique(y_train)"
      ],
      "metadata": {
        "colab": {
          "base_uri": "https://localhost:8080/"
        },
        "id": "Gvo-Ul1Aqdr-",
        "outputId": "510a9566-b561-41ea-cd11-5236e0a324c0"
      },
      "execution_count": 17,
      "outputs": [
        {
          "output_type": "execute_result",
          "data": {
            "text/plain": [
              "array([0, 1, 2, 3, 4, 5, 6, 7, 8, 9], dtype=uint8)"
            ]
          },
          "metadata": {},
          "execution_count": 17
        }
      ]
    },
    {
      "cell_type": "code",
      "source": [
        "np.unique(y_train, return_counts=True)"
      ],
      "metadata": {
        "colab": {
          "base_uri": "https://localhost:8080/"
        },
        "id": "v9F3mwtIYe9X",
        "outputId": "c232a48a-6a3a-46f9-a44e-f2a62ad2b5e4"
      },
      "execution_count": 18,
      "outputs": [
        {
          "output_type": "execute_result",
          "data": {
            "text/plain": [
              "(array([0, 1, 2, 3, 4, 5, 6, 7, 8, 9], dtype=uint8),\n",
              " array([5923, 6742, 5958, 6131, 5842, 5421, 5918, 6265, 5851, 5949]))"
            ]
          },
          "metadata": {},
          "execution_count": 18
        }
      ]
    },
    {
      "cell_type": "code",
      "source": [
        "np.unique(y_test, return_counts=True)"
      ],
      "metadata": {
        "colab": {
          "base_uri": "https://localhost:8080/"
        },
        "id": "zo0zeU5-5u67",
        "outputId": "bb516b94-6ff1-4bc7-a42a-fcd6a920ce43"
      },
      "execution_count": 19,
      "outputs": [
        {
          "output_type": "execute_result",
          "data": {
            "text/plain": [
              "(array([0, 1, 2, 3, 4, 5, 6, 7, 8, 9], dtype=uint8),\n",
              " array([ 980, 1135, 1032, 1010,  982,  892,  958, 1028,  974, 1009]))"
            ]
          },
          "metadata": {},
          "execution_count": 19
        }
      ]
    },
    {
      "cell_type": "code",
      "source": [
        "num_classes = np.unique(y_train).size\n",
        "yoh_train = keras.utils.to_categorical(y_train, num_classes)\n",
        "yoh_test = keras.utils.to_categorical(y_test, num_classes)\n",
        "\n",
        "yoh_train.shape, yoh_test.shape"
      ],
      "metadata": {
        "colab": {
          "base_uri": "https://localhost:8080/"
        },
        "id": "sZgX4KkjXyoc",
        "outputId": "c7fea021-9e3c-4533-bdce-3c3e5e683c37"
      },
      "execution_count": 20,
      "outputs": [
        {
          "output_type": "execute_result",
          "data": {
            "text/plain": [
              "((60000, 10), (10000, 10))"
            ]
          },
          "metadata": {},
          "execution_count": 20
        }
      ]
    },
    {
      "cell_type": "code",
      "source": [
        "def multiply_stuff():\n",
        "  a = np.arange(100_000_000)\n",
        "  return 5 * a"
      ],
      "metadata": {
        "id": "AACAs448qvAa"
      },
      "execution_count": 21,
      "outputs": []
    },
    {
      "cell_type": "code",
      "source": [
        "def multiply_stuff():\n",
        "  a = np.arange(100_000_000)\n",
        "  for i, element in enumerate(a):\n",
        "    a[i] = a[i] * 5\n",
        "  return a"
      ],
      "metadata": {
        "id": "V5RqTOEvrB27"
      },
      "execution_count": 22,
      "outputs": []
    },
    {
      "cell_type": "markdown",
      "source": [
        "# Build the CNN"
      ],
      "metadata": {
        "id": "u2R7C8phYqmP"
      }
    },
    {
      "cell_type": "code",
      "source": [
        "def build_cnn(input_shape, num_classes):\n",
        "  inputs = layers.Input(shape=input_shape)\n",
        "\n",
        "  x = layers.Conv2D(32, kernel_size=(3, 3), activation=\"relu\")(inputs)\n",
        "  x = layers.MaxPooling2D(pool_size=(2, 2))(x)\n",
        "\n",
        "  x = layers.Conv2D(64, kernel_size=(3, 3), activation=\"relu\")(x)\n",
        "  x = layers.MaxPooling2D(pool_size=(2, 2))(x)\n",
        "\n",
        "  x = layers.Flatten()(x)\n",
        "\n",
        "  x = layers.Dense(512, activation=\"relu\")(x)\n",
        "  x = layers.Dense(256, activation=\"relu\")(x)\n",
        "  x = layers.Dense(128, activation=\"relu\")(x)\n",
        "  x = layers.Dense(64, activation=\"relu\")(x)\n",
        "\n",
        "  outputs = layers.Dense(num_classes, activation=\"softmax\")(x)\n",
        "\n",
        "  model = keras.Model(inputs, outputs)\n",
        "  return model\n",
        "\n",
        "input_shape = xnr_train.shape[1:]\n",
        "model = build_cnn(input_shape, num_classes)\n",
        "model.summary()"
      ],
      "metadata": {
        "id": "STMaQgJ8Yp2Q",
        "colab": {
          "base_uri": "https://localhost:8080/"
        },
        "outputId": "35d292e3-7ef2-41cd-f2e6-fdab0c1d7c4d"
      },
      "execution_count": 23,
      "outputs": [
        {
          "output_type": "stream",
          "name": "stdout",
          "text": [
            "Model: \"model\"\n",
            "_________________________________________________________________\n",
            " Layer (type)                Output Shape              Param #   \n",
            "=================================================================\n",
            " input_1 (InputLayer)        [(None, 28, 28, 1)]       0         \n",
            "                                                                 \n",
            " conv2d (Conv2D)             (None, 26, 26, 32)        320       \n",
            "                                                                 \n",
            " max_pooling2d (MaxPooling2  (None, 13, 13, 32)        0         \n",
            " D)                                                              \n",
            "                                                                 \n",
            " conv2d_1 (Conv2D)           (None, 11, 11, 64)        18496     \n",
            "                                                                 \n",
            " max_pooling2d_1 (MaxPoolin  (None, 5, 5, 64)          0         \n",
            " g2D)                                                            \n",
            "                                                                 \n",
            " flatten (Flatten)           (None, 1600)              0         \n",
            "                                                                 \n",
            " dense (Dense)               (None, 512)               819712    \n",
            "                                                                 \n",
            " dense_1 (Dense)             (None, 256)               131328    \n",
            "                                                                 \n",
            " dense_2 (Dense)             (None, 128)               32896     \n",
            "                                                                 \n",
            " dense_3 (Dense)             (None, 64)                8256      \n",
            "                                                                 \n",
            " dense_4 (Dense)             (None, 10)                650       \n",
            "                                                                 \n",
            "=================================================================\n",
            "Total params: 1011658 (3.86 MB)\n",
            "Trainable params: 1011658 (3.86 MB)\n",
            "Non-trainable params: 0 (0.00 Byte)\n",
            "_________________________________________________________________\n"
          ]
        }
      ]
    },
    {
      "cell_type": "markdown",
      "source": [
        "# Train model"
      ],
      "metadata": {
        "id": "69M-nuNVaSzl"
      }
    },
    {
      "cell_type": "code",
      "source": [
        "model.compile(loss=\"categorical_crossentropy\", optimizer=\"adam\", metrics=[\"accuracy\"])"
      ],
      "metadata": {
        "id": "j7DuC-GiaRXl"
      },
      "execution_count": 24,
      "outputs": []
    },
    {
      "cell_type": "code",
      "source": [
        "model.fit(\n",
        "    xnr_train,\n",
        "    yoh_train,\n",
        "    batch_size=256,\n",
        "    epochs=10,\n",
        "    validation_split=0.1,\n",
        ")"
      ],
      "metadata": {
        "colab": {
          "base_uri": "https://localhost:8080/"
        },
        "id": "c0rEvv5L2PK0",
        "outputId": "6ba6984f-1dd9-4e35-98b4-8d96d102620f"
      },
      "execution_count": 25,
      "outputs": [
        {
          "output_type": "stream",
          "name": "stdout",
          "text": [
            "Epoch 1/10\n",
            "211/211 [==============================] - 19s 20ms/step - loss: 0.2892 - accuracy: 0.9123 - val_loss: 0.0641 - val_accuracy: 0.9825\n",
            "Epoch 2/10\n",
            "211/211 [==============================] - 3s 14ms/step - loss: 0.0617 - accuracy: 0.9805 - val_loss: 0.0443 - val_accuracy: 0.9872\n",
            "Epoch 3/10\n",
            "211/211 [==============================] - 4s 18ms/step - loss: 0.0450 - accuracy: 0.9855 - val_loss: 0.0361 - val_accuracy: 0.9895\n",
            "Epoch 4/10\n",
            "211/211 [==============================] - 6s 29ms/step - loss: 0.0314 - accuracy: 0.9901 - val_loss: 0.0455 - val_accuracy: 0.9880\n",
            "Epoch 5/10\n",
            "211/211 [==============================] - 4s 19ms/step - loss: 0.0241 - accuracy: 0.9921 - val_loss: 0.0385 - val_accuracy: 0.9893\n",
            "Epoch 6/10\n",
            "211/211 [==============================] - 3s 15ms/step - loss: 0.0212 - accuracy: 0.9935 - val_loss: 0.0358 - val_accuracy: 0.9897\n",
            "Epoch 7/10\n",
            "211/211 [==============================] - 4s 20ms/step - loss: 0.0135 - accuracy: 0.9957 - val_loss: 0.0437 - val_accuracy: 0.9890\n",
            "Epoch 8/10\n",
            "211/211 [==============================] - 4s 20ms/step - loss: 0.0145 - accuracy: 0.9954 - val_loss: 0.0364 - val_accuracy: 0.9913\n",
            "Epoch 9/10\n",
            "211/211 [==============================] - 3s 14ms/step - loss: 0.0115 - accuracy: 0.9962 - val_loss: 0.0410 - val_accuracy: 0.9883\n",
            "Epoch 10/10\n",
            "211/211 [==============================] - 2s 10ms/step - loss: 0.0112 - accuracy: 0.9961 - val_loss: 0.0347 - val_accuracy: 0.9910\n"
          ]
        },
        {
          "output_type": "execute_result",
          "data": {
            "text/plain": [
              "<keras.src.callbacks.History at 0x7dd480d70700>"
            ]
          },
          "metadata": {},
          "execution_count": 25
        }
      ]
    },
    {
      "cell_type": "code",
      "source": [
        "history = model.history.history"
      ],
      "metadata": {
        "id": "rexKYneDs1rh"
      },
      "execution_count": 26,
      "outputs": []
    },
    {
      "cell_type": "code",
      "source": [
        "model.evaluate(xnr_test, yoh_test)"
      ],
      "metadata": {
        "colab": {
          "base_uri": "https://localhost:8080/"
        },
        "id": "ImAuFV3b-Bhz",
        "outputId": "739aa31e-b056-402b-fc64-8a1c1ad8ead4"
      },
      "execution_count": 27,
      "outputs": [
        {
          "output_type": "stream",
          "name": "stdout",
          "text": [
            "313/313 [==============================] - 1s 4ms/step - loss: 0.0289 - accuracy: 0.9915\n"
          ]
        },
        {
          "output_type": "execute_result",
          "data": {
            "text/plain": [
              "[0.028924204409122467, 0.9915000200271606]"
            ]
          },
          "metadata": {},
          "execution_count": 27
        }
      ]
    },
    {
      "cell_type": "markdown",
      "source": [
        "# Plot loss and accuracy curves"
      ],
      "metadata": {
        "id": "6eWBBwePawb4"
      }
    },
    {
      "cell_type": "code",
      "source": [
        "history.keys()"
      ],
      "metadata": {
        "id": "hMe3KCpMacb2",
        "colab": {
          "base_uri": "https://localhost:8080/"
        },
        "outputId": "3f533950-f076-46fe-eabd-9e8f6eb5cf13"
      },
      "execution_count": 28,
      "outputs": [
        {
          "output_type": "execute_result",
          "data": {
            "text/plain": [
              "dict_keys(['loss', 'accuracy', 'val_loss', 'val_accuracy'])"
            ]
          },
          "metadata": {},
          "execution_count": 28
        }
      ]
    },
    {
      "cell_type": "code",
      "source": [
        "def plot_curves(history):\n",
        "  fig, axes = plt.subplots(nrows=2, ncols=1, sharex=True, sharey=False, figsize=(8, 8))\n",
        "\n",
        "  axes[0].set_title(\"Categorical Crossentropy Loss\")\n",
        "  axes[0].plot(history[\"loss\"], label=\"Training Loss\")\n",
        "  axes[0].plot(history[\"val_loss\"], label=\"Validation Loss\")\n",
        "  axes[0].legend(loc=\"upper right\")\n",
        "  axes[0].set_ylabel(\"Loss\")\n",
        "\n",
        "  axes[1].set_title(\"Categorical Accuracy\")\n",
        "  axes[1].plot(history[\"accuracy\"], label=\"Training Accuracy\")\n",
        "  axes[1].plot(history[\"val_accuracy\"], label=\"Validation Accuracy\")\n",
        "  axes[1].legend(loc=\"upper right\")\n",
        "  axes[1].set_ylabel(\"Accuracy\")\n",
        "\n",
        "  axes[1].set_xlabel(\"Epoch\")\n",
        "\n",
        "  return fig\n",
        "\n",
        "fig = plot_curves(history)\n",
        "fig.show()"
      ],
      "metadata": {
        "colab": {
          "base_uri": "https://localhost:8080/",
          "height": 718
        },
        "id": "PblfViCqtRXu",
        "outputId": "edf9e045-78d1-4256-c6e2-0de83b77150a"
      },
      "execution_count": 30,
      "outputs": [
        {
          "output_type": "display_data",
          "data": {
            "text/plain": [
              "<Figure size 800x800 with 2 Axes>"
            ],
            "image/png": "[encoded data removed]"
          },
          "metadata": {}
        }
      ]
    },
    {
      "cell_type": "markdown",
      "source": [
        "# Evaluate the model on the testing set"
      ],
      "metadata": {
        "id": "RqjH_U_BcX9_"
      }
    },
    {
      "cell_type": "code",
      "source": [],
      "metadata": {
        "id": "2XO8Xw01bCpk"
      },
      "execution_count": null,
      "outputs": []
    },
    {
      "cell_type": "markdown",
      "source": [
        "# Make a confusion matrix for the testing set predictions"
      ],
      "metadata": {
        "id": "PUE3l238crBz"
      }
    },
    {
      "cell_type": "code",
      "source": [
        "def plot_cm(cm, classes):\n",
        "\n",
        "    # Normalize cm and make off-diagonal elements negative so they appear red in the plot.\n",
        "    cm = cm.astype(\"float\") / np.nansum(cm, axis=1)[:, np.newaxis]\n",
        "    off_diag = ~np.eye(cm.shape[0], dtype=bool)\n",
        "    cm[off_diag] *= -1\n",
        "    vmin, vmax = -1, 1\n",
        "    cmap = \"RdBu\"\n",
        "\n",
        "    # Plot the cm\n",
        "    fig = plt.figure(figsize=(8, 8))\n",
        "    plt.imshow(cm, interpolation=\"None\", cmap=cmap, vmin=vmin, vmax=vmax)\n",
        "\n",
        "    # Create the colorbar and adjust the tick size\n",
        "    cb = plt.colorbar()\n",
        "    cb.ax.tick_params(labelsize=15)\n",
        "\n",
        "    # Set the tick mark labels on the horizontal and vertical axes to be the class names.\n",
        "    tick_marks = np.arange(len(classes))\n",
        "    plt.xticks(tick_marks, classes, rotation=90, fontsize=15)\n",
        "    plt.yticks(tick_marks, classes, fontsize=15)\n",
        "\n",
        "    # This code loops through each element of the confusion matrix and prints the value on the plot.\n",
        "    fmt = \".2f\"\n",
        "    thresh = cm.max() / 2.0\n",
        "    import itertools\n",
        "    for i, j in itertools.product(range(cm.shape[0]), range(cm.shape[1])):\n",
        "        text = format(abs(cm[i, j]), fmt)\n",
        "        if cm[i, j] == 0:\n",
        "            text = \"0\"\n",
        "        plt.text(\n",
        "            j,\n",
        "            i,\n",
        "            text,\n",
        "            horizontalalignment=\"center\",\n",
        "            color=\"white\" if abs(cm[i, j]) > thresh else \"black\",\n",
        "            fontsize=12,\n",
        "        )\n",
        "\n",
        "    plt.tight_layout()\n",
        "    plt.ylabel(\"True label\", fontsize=20)\n",
        "    plt.xlabel(\"Predicted label\", fontsize=20)\n",
        "    plt.tight_layout()\n",
        "\n",
        "    plt.show()"
      ],
      "metadata": {
        "id": "C2s97Xsxcy8N"
      },
      "execution_count": null,
      "outputs": []
    },
    {
      "cell_type": "code",
      "source": [
        "pred = model.predict(xnr_test)\n",
        "y_pred = np.argmax(pred, axis=1)\n",
        "y_true = np.argmax(yoh_test, axis=1)\n",
        "cm = confusion_matrix(y_true, y_pred)\n",
        "cm"
      ],
      "metadata": {
        "colab": {
          "base_uri": "https://localhost:8080/"
        },
        "id": "5kuy8_wEvLt3",
        "outputId": "39a84506-74ab-4e67-ec86-a58ed8dc13ce"
      },
      "execution_count": 31,
      "outputs": [
        {
          "output_type": "stream",
          "name": "stdout",
          "text": [
            "313/313 [==============================] - 2s 4ms/step\n"
          ]
        },
        {
          "output_type": "execute_result",
          "data": {
            "text/plain": [
              "array([[ 975,    1,    0,    0,    0,    0,    2,    1,    1,    0],\n",
              "       [   0, 1130,    0,    0,    0,    0,    1,    0,    3,    1],\n",
              "       [   0,    0, 1025,    1,    0,    0,    1,    5,    0,    0],\n",
              "       [   0,    0,    1, 1001,    0,    6,    0,    0,    2,    0],\n",
              "       [   0,    0,    0,    0,  979,    0,    1,    0,    0,    2],\n",
              "       [   1,    0,    0,    6,    0,  883,    1,    0,    1,    0],\n",
              "       [   1,    2,    0,    0,    1,    3,  950,    0,    1,    0],\n",
              "       [   0,    6,    2,    0,    0,    0,    0, 1016,    1,    3],\n",
              "       [   2,    0,    1,    0,    0,    1,    0,    1,  968,    1],\n",
              "       [   1,    0,    0,    2,    5,    7,    0,    2,    4,  988]])"
            ]
          },
          "metadata": {},
          "execution_count": 31
        }
      ]
    },
    {
      "cell_type": "code",
      "source": [
        "import seaborn as sns"
      ],
      "metadata": {
        "id": "xqTUBUnOxoKT"
      },
      "execution_count": 35,
      "outputs": []
    },
    {
      "cell_type": "code",
      "source": [
        "labels = np.arange(10)\n",
        "# plot_cm(cm, labels)\n",
        "plt.figure(figsize=(10, 8))\n",
        "sns.heatmap(cm, annot=True, fmt='d', cmap='Blues', xticklabels=labels, yticklabels=labels)\n",
        "plt.xlabel('Predicted')\n",
        "plt.ylabel('True')\n",
        "plt.title('Confusion Matrix')\n",
        "plt.show()"
      ],
      "metadata": {
        "id": "iH90ZgXfd_CF",
        "colab": {
          "base_uri": "https://localhost:8080/",
          "height": 718
        },
        "outputId": "84476914-bf47-4958-8642-22d9067cb5be"
      },
      "execution_count": 36,
      "outputs": [
        {
          "output_type": "display_data",
          "data": {
            "text/plain": [
              "<Figure size 1000x800 with 2 Axes>"
            ],
            "image/png": "[encoded data removed]"
          },
          "metadata": {}
        }
      ]
    }
  ]
}